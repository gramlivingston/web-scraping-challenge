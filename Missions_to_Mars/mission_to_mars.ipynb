{
 "metadata": {
  "language_info": {
   "codemirror_mode": {
    "name": "ipython",
    "version": 3
   },
   "file_extension": ".py",
   "mimetype": "text/x-python",
   "name": "python",
   "nbconvert_exporter": "python",
   "pygments_lexer": "ipython3",
   "version": "3.8.3-final"
  },
  "orig_nbformat": 2,
  "kernelspec": {
   "name": "python38364bitsynsinconda3c9cf2f849bd46b294a8a25a082cb17e",
   "display_name": "Python 3.8.3 64-bit ('Synsin': conda)"
  }
 },
 "nbformat": 4,
 "nbformat_minor": 2,
 "cells": [
  {
   "cell_type": "code",
   "execution_count": 1,
   "metadata": {},
   "outputs": [],
   "source": [
    "# Dependencies\n",
    "from bs4 import BeautifulSoup\n",
    "import requests\n",
    "import pandas as pd\n",
    "import numpy as np\n",
    "import os\n",
    "from splinter import Browser"
   ]
  },
  {
   "cell_type": "code",
   "execution_count": 2,
   "metadata": {
    "tags": []
   },
   "outputs": [],
   "source": [
    "url = f'https://mars.nasa.gov/news/?page=0&per_page=40order=publish_date+desc%2Ccreated_at+desc&search=&category=19%2C165%2C184%2C204&blank_scope=Latest'\n",
    "\n",
    "response = requests.get(url)\n",
    "\n",
    "soup = BeautifulSoup(response.text, 'html.parser')\n",
    "    \n",
    "    # results are returned as an iterable list\n",
    "news_Title = soup.find_all('div', class_=\"content_title\", )[0]\n",
    "title_text = news_Title.a.text\n",
    "link = news_Title.a['href']\n",
    "\n",
    "\n",
    "response_two = requests.get(f'https://mars.nasa.gov/{link}')\n",
    "soup_two = BeautifulSoup(response_two.text, 'html.parser')\n",
    "first_paragraph = soup_two.find('div', class_=\"wysiwyg_content\")\n",
    "news_paragraph = first_paragraph.p.text\n",
    "    \n",
    "    \n",
    "\n"
   ]
  },
  {
   "cell_type": "code",
   "execution_count": 3,
   "metadata": {
    "tags": []
   },
   "outputs": [],
   "source": [
    "#splinter for image\n",
    "executable_path = {'executable_path': 'chromedriver.exe'}\n",
    "browser = Browser('chrome', **executable_path, headless=False)\n",
    "\n",
    "marsurl = 'https://www.jpl.nasa.gov/spaceimages/?search=&category=Mars'\n",
    "browser.visit(marsurl)\n",
    "browser.click_link_by_partial_text('FULL IMAGE')\n",
    "browser.click_link_by_partial_text('more info')\n",
    "\n",
    "html = browser.html\n",
    "soup_three = BeautifulSoup(html, 'html.parser')\n",
    "marsImage = soup_three.find('div', class_=\"download_tiff\")\n",
    "\n",
    "#Full image variable\n",
    "full_marsImg = marsImage.p.a['href']\n"
   ]
  },
  {
   "cell_type": "code",
   "execution_count": 4,
   "metadata": {
    "tags": []
   },
   "outputs": [
    {
     "output_type": "stream",
     "name": "stdout",
     "text": "None\n"
    }
   ],
   "source": [
    "#scraping twitter\n",
    "url = 'https://twitter.com/marswxreport?lang=en'\n",
    "\n",
    "response = requests.get(url)\n",
    "\n",
    "soup = BeautifulSoup(response.text, 'html.parser')\n",
    "    \n",
    "tweet = soup.find('div', class_='css-1dbjc4n r-1iusvr4 r-16y2uox r-1777fci r-1mi0q7o')\n",
    "#mars_weather = tweet.span.text\n",
    "\n",
    "print(tweet)"
   ]
  },
  {
   "cell_type": "code",
   "execution_count": 12,
   "metadata": {
    "tags": []
   },
   "outputs": [
    {
     "output_type": "execute_result",
     "data": {
      "text/plain": "                        0        1        2                  3\n0                     NaN     Mars    Earth  Ratio(Mars/Earth)\n1          Mass (1024 kg)  0.64171   5.9724              0.107\n2       Volume (1010 km3)   16.318  108.321              0.151\n3  Equatorial radius (km)   3396.2   6378.1              0.532\n4       Polar radius (km)   3376.2   6356.8              0.531",
      "text/html": "<div>\n<style scoped>\n    .dataframe tbody tr th:only-of-type {\n        vertical-align: middle;\n    }\n\n    .dataframe tbody tr th {\n        vertical-align: top;\n    }\n\n    .dataframe thead th {\n        text-align: right;\n    }\n</style>\n<table border=\"1\" class=\"dataframe\">\n  <thead>\n    <tr style=\"text-align: right;\">\n      <th></th>\n      <th>0</th>\n      <th>1</th>\n      <th>2</th>\n      <th>3</th>\n    </tr>\n  </thead>\n  <tbody>\n    <tr>\n      <th>0</th>\n      <td>NaN</td>\n      <td>Mars</td>\n      <td>Earth</td>\n      <td>Ratio(Mars/Earth)</td>\n    </tr>\n    <tr>\n      <th>1</th>\n      <td>Mass (1024 kg)</td>\n      <td>0.64171</td>\n      <td>5.9724</td>\n      <td>0.107</td>\n    </tr>\n    <tr>\n      <th>2</th>\n      <td>Volume (1010 km3)</td>\n      <td>16.318</td>\n      <td>108.321</td>\n      <td>0.151</td>\n    </tr>\n    <tr>\n      <th>3</th>\n      <td>Equatorial radius (km)</td>\n      <td>3396.2</td>\n      <td>6378.1</td>\n      <td>0.532</td>\n    </tr>\n    <tr>\n      <th>4</th>\n      <td>Polar radius (km)</td>\n      <td>3376.2</td>\n      <td>6356.8</td>\n      <td>0.531</td>\n    </tr>\n  </tbody>\n</table>\n</div>"
     },
     "metadata": {},
     "execution_count": 12
    }
   ],
   "source": [
    "#Scraping Mars Facts\n",
    "\n",
    "url = 'https://nssdc.gsfc.nasa.gov/planetary/factsheet/marsfact.html'\n",
    "tables = pd.read_html(url)\n",
    "df = tables[0]\n",
    "#df.columns = ['0', '1', '2']\n",
    "df.head()"
   ]
  },
  {
   "cell_type": "code",
   "execution_count": 57,
   "metadata": {
    "tags": []
   },
   "outputs": [
    {
     "output_type": "error",
     "ename": "KeyError",
     "evalue": "'href'",
     "traceback": [
      "\u001b[1;31m---------------------------------------------------------------------------\u001b[0m",
      "\u001b[1;31mKeyError\u001b[0m                                  Traceback (most recent call last)",
      "\u001b[1;32m<ipython-input-57-e451b038ce23>\u001b[0m in \u001b[0;36m<module>\u001b[1;34m\u001b[0m\n\u001b[0;32m     12\u001b[0m     \u001b[0msecondsoup\u001b[0m \u001b[1;33m=\u001b[0m \u001b[0mBeautifulSoup\u001b[0m\u001b[1;33m(\u001b[0m\u001b[0mresponse\u001b[0m\u001b[1;33m.\u001b[0m\u001b[0mtext\u001b[0m\u001b[1;33m,\u001b[0m \u001b[1;34m'html.parser'\u001b[0m\u001b[1;33m)\u001b[0m\u001b[1;33m\u001b[0m\u001b[1;33m\u001b[0m\u001b[0m\n\u001b[0;32m     13\u001b[0m     \u001b[0mdownloads\u001b[0m \u001b[1;33m=\u001b[0m \u001b[0msecondsoup\u001b[0m\u001b[1;33m.\u001b[0m\u001b[0mfind_all\u001b[0m\u001b[1;33m(\u001b[0m\u001b[1;34m'div'\u001b[0m\u001b[1;33m,\u001b[0m \u001b[0mclass_\u001b[0m\u001b[1;33m=\u001b[0m\u001b[1;34m'downloads'\u001b[0m\u001b[1;33m)\u001b[0m\u001b[1;33m[\u001b[0m\u001b[1;36m0\u001b[0m\u001b[1;33m]\u001b[0m\u001b[1;33m\u001b[0m\u001b[1;33m\u001b[0m\u001b[0m\n\u001b[1;32m---> 14\u001b[1;33m     \u001b[0malllinks\u001b[0m \u001b[1;33m=\u001b[0m \u001b[0mdownloads\u001b[0m\u001b[1;33m.\u001b[0m\u001b[0mul\u001b[0m\u001b[1;33m.\u001b[0m\u001b[0mli\u001b[0m\u001b[1;33m[\u001b[0m\u001b[1;34m'href'\u001b[0m\u001b[1;33m]\u001b[0m\u001b[1;33m\u001b[0m\u001b[1;33m\u001b[0m\u001b[0m\n\u001b[0m\u001b[0;32m     15\u001b[0m     \u001b[0mlinks\u001b[0m\u001b[1;33m.\u001b[0m\u001b[0mappend\u001b[0m\u001b[1;33m(\u001b[0m\u001b[0malllinks\u001b[0m\u001b[1;33m[\u001b[0m\u001b[1;36m1\u001b[0m\u001b[1;33m]\u001b[0m\u001b[1;33m)\u001b[0m\u001b[1;33m\u001b[0m\u001b[1;33m\u001b[0m\u001b[0m\n\u001b[0;32m     16\u001b[0m \u001b[1;33m\u001b[0m\u001b[0m\n",
      "\u001b[1;32m~\\AppData\\Local\\Continuum\\anaconda3\\envs\\Synsin\\lib\\site-packages\\bs4\\element.py\u001b[0m in \u001b[0;36m__getitem__\u001b[1;34m(self, key)\u001b[0m\n\u001b[0;32m   1399\u001b[0m         \"\"\"tag[key] returns the value of the 'key' attribute for the Tag,\n\u001b[0;32m   1400\u001b[0m         and throws an exception if it's not there.\"\"\"\n\u001b[1;32m-> 1401\u001b[1;33m         \u001b[1;32mreturn\u001b[0m \u001b[0mself\u001b[0m\u001b[1;33m.\u001b[0m\u001b[0mattrs\u001b[0m\u001b[1;33m[\u001b[0m\u001b[0mkey\u001b[0m\u001b[1;33m]\u001b[0m\u001b[1;33m\u001b[0m\u001b[1;33m\u001b[0m\u001b[0m\n\u001b[0m\u001b[0;32m   1402\u001b[0m \u001b[1;33m\u001b[0m\u001b[0m\n\u001b[0;32m   1403\u001b[0m     \u001b[1;32mdef\u001b[0m \u001b[0m__iter__\u001b[0m\u001b[1;33m(\u001b[0m\u001b[0mself\u001b[0m\u001b[1;33m)\u001b[0m\u001b[1;33m:\u001b[0m\u001b[1;33m\u001b[0m\u001b[1;33m\u001b[0m\u001b[0m\n",
      "\u001b[1;31mKeyError\u001b[0m: 'href'"
     ]
    }
   ],
   "source": [
    "links = []\n",
    "\n",
    "url = f'https://astrogeology.usgs.gov/search/results?q=hemisphere+enhanced&k1=target&v1=Mars'\n",
    "response = requests.get(url)\n",
    "soup = BeautifulSoup(response.text, 'html.parser')\n",
    "\n",
    "for i in range(4):\n",
    "    item = soup.find_all('div', class_=\"item\", )[i]\n",
    "    secondpage = item.a['href']\n",
    "\n",
    "    response = requests.get(f'https://astrogeology.usgs.gov{secondpage}')\n",
    "    secondsoup = BeautifulSoup(response.text, 'html.parser')\n",
    "    downloads = secondsoup.find_all('div', class_='downloads')[0]\n",
    "    alllinks = downloads.ul.li['href']\n",
    "    links.append(alllinks[1])\n",
    "    \n",
    "    # Access the thread's text content\n",
    "   # title_text = title.a.text\n",
    "   # link = products.a['href']\n",
    "   # print(link)\n",
    "    \n",
    "\n",
    "\n",
    "print(links)\n",
    "#print(type(productslist))\n",
    "#print(links)\n",
    "\n",
    "\n",
    "\n"
   ]
  },
  {
   "cell_type": "code",
   "execution_count": null,
   "metadata": {},
   "outputs": [],
   "source": []
  }
 ]
}