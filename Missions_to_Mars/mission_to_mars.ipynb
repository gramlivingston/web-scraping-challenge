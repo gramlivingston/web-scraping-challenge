{
 "metadata": {
  "language_info": {
   "codemirror_mode": {
    "name": "ipython",
    "version": 3
   },
   "file_extension": ".py",
   "mimetype": "text/x-python",
   "name": "python",
   "nbconvert_exporter": "python",
   "pygments_lexer": "ipython3",
   "version": "3.8.3-final"
  },
  "orig_nbformat": 2,
  "kernelspec": {
   "name": "python38364bitsynsinconda3c9cf2f849bd46b294a8a25a082cb17e",
   "display_name": "Python 3.8.3 64-bit ('Synsin': conda)"
  }
 },
 "nbformat": 4,
 "nbformat_minor": 2,
 "cells": [
  {
   "cell_type": "code",
   "execution_count": 1,
   "metadata": {},
   "outputs": [],
   "source": [
    "# Dependencies\n",
    "from bs4 import BeautifulSoup\n",
    "import requests\n",
    "import pandas as pd\n",
    "import numpy as np\n",
    "import os\n",
    "from splinter import Browser"
   ]
  },
  {
   "cell_type": "code",
   "execution_count": 2,
   "metadata": {
    "tags": []
   },
   "outputs": [],
   "source": [
    "url = f'https://mars.nasa.gov/news/?page=0&per_page=40order=publish_date+desc%2Ccreated_at+desc&search=&category=19%2C165%2C184%2C204&blank_scope=Latest'\n",
    "\n",
    "response = requests.get(url)\n",
    "\n",
    "soup = BeautifulSoup(response.text, 'html.parser')\n",
    "    \n",
    "    # results are returned as an iterable list\n",
    "news_Title = soup.find_all('div', class_=\"content_title\", )[0]\n",
    "title_text = news_Title.a.text\n",
    "link = news_Title.a['href']\n",
    "\n",
    "\n",
    "response_two = requests.get(f'https://mars.nasa.gov/{link}')\n",
    "soup_two = BeautifulSoup(response_two.text, 'html.parser')\n",
    "first_paragraph = soup_two.find('div', class_=\"wysiwyg_content\")\n",
    "news_paragraph = first_paragraph.p.text\n",
    "    \n",
    "    \n",
    "\n"
   ]
  },
  {
   "cell_type": "code",
   "execution_count": 3,
   "metadata": {
    "tags": []
   },
   "outputs": [],
   "source": [
    "#splinter for image\n",
    "executable_path = {'executable_path': 'chromedriver.exe'}\n",
    "browser = Browser('chrome', **executable_path, headless=False)\n",
    "\n",
    "marsurl = 'https://www.jpl.nasa.gov/spaceimages/?search=&category=Mars'\n",
    "browser.visit(marsurl)\n",
    "browser.click_link_by_partial_text('FULL IMAGE')\n",
    "browser.click_link_by_partial_text('more info')\n",
    "\n",
    "html = browser.html\n",
    "soup_three = BeautifulSoup(html, 'html.parser')\n",
    "marsImage = soup_three.find('div', class_=\"download_tiff\")\n",
    "\n",
    "#Full image variable\n",
    "full_marsImg = marsImage.p.a['href']\n"
   ]
  },
  {
   "cell_type": "code",
   "execution_count": 4,
   "metadata": {
    "tags": []
   },
   "outputs": [
    {
     "output_type": "stream",
     "name": "stdout",
     "text": "None\n"
    }
   ],
   "source": [
    "#scraping twitter\n",
    "url = 'https://twitter.com/marswxreport?lang=en'\n",
    "\n",
    "response = requests.get(url)\n",
    "\n",
    "soup = BeautifulSoup(response.text, 'html.parser')\n",
    "    \n",
    "tweet = soup.find('div', class_='css-1dbjc4n r-1iusvr4 r-16y2uox r-1777fci r-1mi0q7o')\n",
    "#mars_weather = tweet.span.text\n",
    "\n",
    "print(tweet)"
   ]
  },
  {
   "cell_type": "code",
   "execution_count": 5,
   "metadata": {
    "tags": []
   },
   "outputs": [
    {
     "output_type": "execute_result",
     "data": {
      "text/plain": "                        0        1        2                  3\n0                     NaN     Mars    Earth  Ratio(Mars/Earth)\n1          Mass (1024 kg)  0.64171   5.9724              0.107\n2       Volume (1010 km3)   16.318  108.321              0.151\n3  Equatorial radius (km)   3396.2   6378.1              0.532\n4       Polar radius (km)   3376.2   6356.8              0.531",
      "text/html": "<div>\n<style scoped>\n    .dataframe tbody tr th:only-of-type {\n        vertical-align: middle;\n    }\n\n    .dataframe tbody tr th {\n        vertical-align: top;\n    }\n\n    .dataframe thead th {\n        text-align: right;\n    }\n</style>\n<table border=\"1\" class=\"dataframe\">\n  <thead>\n    <tr style=\"text-align: right;\">\n      <th></th>\n      <th>0</th>\n      <th>1</th>\n      <th>2</th>\n      <th>3</th>\n    </tr>\n  </thead>\n  <tbody>\n    <tr>\n      <th>0</th>\n      <td>NaN</td>\n      <td>Mars</td>\n      <td>Earth</td>\n      <td>Ratio(Mars/Earth)</td>\n    </tr>\n    <tr>\n      <th>1</th>\n      <td>Mass (1024 kg)</td>\n      <td>0.64171</td>\n      <td>5.9724</td>\n      <td>0.107</td>\n    </tr>\n    <tr>\n      <th>2</th>\n      <td>Volume (1010 km3)</td>\n      <td>16.318</td>\n      <td>108.321</td>\n      <td>0.151</td>\n    </tr>\n    <tr>\n      <th>3</th>\n      <td>Equatorial radius (km)</td>\n      <td>3396.2</td>\n      <td>6378.1</td>\n      <td>0.532</td>\n    </tr>\n    <tr>\n      <th>4</th>\n      <td>Polar radius (km)</td>\n      <td>3376.2</td>\n      <td>6356.8</td>\n      <td>0.531</td>\n    </tr>\n  </tbody>\n</table>\n</div>"
     },
     "metadata": {},
     "execution_count": 5
    }
   ],
   "source": [
    "#Scraping Mars Facts\n",
    "\n",
    "url = 'https://nssdc.gsfc.nasa.gov/planetary/factsheet/marsfact.html'\n",
    "tables = pd.read_html(url)\n",
    "df = tables[0]\n",
    "#df.columns = ['0', '1', '2']\n",
    "df.head()"
   ]
  },
  {
   "cell_type": "code",
   "execution_count": 16,
   "metadata": {
    "tags": []
   },
   "outputs": [
    {
     "output_type": "stream",
     "name": "stdout",
     "text": "['https://astropedia.astrogeology.usgs.gov/download/Mars/Viking/cerberus_enhanced.tif/full.jpg', 'https://astropedia.astrogeology.usgs.gov/download/Mars/Viking/schiaparelli_enhanced.tif/full.jpg', 'https://astropedia.astrogeology.usgs.gov/download/Mars/Viking/syrtis_major_enhanced.tif/full.jpg', 'https://astropedia.astrogeology.usgs.gov/download/Mars/Viking/valles_marineris_enhanced.tif/full.jpg']\n"
    }
   ],
   "source": [
    "links = []\n",
    "\n",
    "url = f'https://astrogeology.usgs.gov/search/results?q=hemisphere+enhanced&k1=target&v1=Mars'\n",
    "response = requests.get(url)\n",
    "soup = BeautifulSoup(response.text, 'html.parser')\n",
    "\n",
    "for i in range(4):\n",
    "    item = soup.find_all('div', class_=\"item\", )[i]\n",
    "    secondpage = item.a['href']\n",
    "\n",
    "    response = requests.get(f'https://astrogeology.usgs.gov{secondpage}')\n",
    "    secondsoup = BeautifulSoup(response.text, 'html.parser')\n",
    "    downloads = secondsoup.find_all('div', class_='downloads')[0]\n",
    "    alllinks = downloads.ul.li.a['href']\n",
    "    links.append(alllinks)\n",
    "    \n",
    "    # Access the thread's text content\n",
    "   # title_text = title.a.text\n",
    "   # link = products.a['href']\n",
    "   # print(link)\n",
    "    \n",
    "\n",
    "\n",
    "print(links)\n",
    "#print(type(productslist))\n",
    "#print(links)\n",
    "\n",
    "\n",
    "\n"
   ]
  },
  {
   "cell_type": "code",
   "execution_count": null,
   "metadata": {},
   "outputs": [],
   "source": []
  }
 ]
}